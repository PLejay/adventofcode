{
 "cells": [
  {
   "cell_type": "code",
   "execution_count": 4,
   "metadata": {},
   "outputs": [
    {
     "name": "stdout",
     "output_type": "stream",
     "text": [
      "467..114..\n",
      "...*......\n",
      "..35..633.\n",
      "......#...\n",
      "617*......\n",
      ".....+.58.\n",
      "..592.....\n",
      "......755.\n",
      "...$.*....\n",
      ".664.598..\n"
     ]
    }
   ],
   "source": [
    "# Read the data\n",
    "\n",
    "def print_grid(grid):\n",
    "  for row in grid:\n",
    "    print(row)\n",
    "\n",
    "# Open data file in read mode\n",
    "data = open(\"data.txt\", \"r\")\n",
    "lines = data.read().splitlines()\n",
    "print_grid(lines)"
   ]
  },
  {
   "cell_type": "code",
   "execution_count": 5,
   "metadata": {},
   "outputs": [],
   "source": [
    "# Define useful constants\n",
    "grid_width = len(lines[0])\n",
    "grid_height = len(lines)\n",
    "max_x_index = grid_width - 1\n",
    "max_y_index = grid_height - 1"
   ]
  },
  {
   "cell_type": "code",
   "execution_count": 6,
   "metadata": {},
   "outputs": [
    {
     "name": "stdout",
     "output_type": "stream",
     "text": [
      "[(3, 1), (3, 4), (5, 8)]\n"
     ]
    }
   ],
   "source": [
    "# Store the coordinates of all the * symbols\n",
    "star_coords = []\n",
    "\n",
    "for y, line in enumerate(lines):\n",
    "  for x, char in enumerate(line):\n",
    "    if char == \"*\":\n",
    "      coords = (x, y)\n",
    "      star_coords.append(coords)\n",
    "\n",
    "print(star_coords)"
   ]
  },
  {
   "cell_type": "code",
   "execution_count": 16,
   "metadata": {},
   "outputs": [
    {
     "name": "stdout",
     "output_type": "stream",
     "text": [
      "3 4\n",
      "617\n",
      "{}\n"
     ]
    }
   ],
   "source": [
    "import re\n",
    "\n",
    "# Map all numbers around a star\n",
    "star_num_map = {}\n",
    "\n",
    "def map_left_of_star(star_x, star_y):\n",
    "  if star_x == 0:\n",
    "    return\n",
    "  left_char = lines[star_y][star_x - 1]\n",
    "  if not left_char.isnumeric():\n",
    "    return\n",
    "  left_of_star = lines[star_y][:star_x]\n",
    "  print(left_of_star)\n",
    "\n",
    "\n",
    "for star in star_coords:\n",
    "  x, y = star[0], star[1]\n",
    "  map_left_of_star(x, y)\n",
    "\n",
    "print(star_num_map)"
   ]
  }
 ],
 "metadata": {
  "kernelspec": {
   "display_name": "Python 3",
   "language": "python",
   "name": "python3"
  },
  "language_info": {
   "codemirror_mode": {
    "name": "ipython",
    "version": 3
   },
   "file_extension": ".py",
   "mimetype": "text/x-python",
   "name": "python",
   "nbconvert_exporter": "python",
   "pygments_lexer": "ipython3",
   "version": "3.9.6"
  }
 },
 "nbformat": 4,
 "nbformat_minor": 2
}
