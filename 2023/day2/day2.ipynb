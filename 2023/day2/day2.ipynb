{
 "cells": [
  {
   "cell_type": "code",
   "execution_count": 27,
   "metadata": {},
   "outputs": [],
   "source": [
    "# Define constants\n",
    "max_blue_cubes = 14\n",
    "max_red_cubes = 12\n",
    "max_green_cubes = 13"
   ]
  },
  {
   "cell_type": "code",
   "execution_count": 28,
   "metadata": {},
   "outputs": [
    {
     "name": "stdout",
     "output_type": "stream",
     "text": [
      "['Game 1: 18 red, 8 green, 7 blue; 15 red, 4 blue, 1 green; 2 green, 17 red, 6 blue; 5 green, 1 blue, 11 red; 18 red, 1 green, 14 blue; 8 blue', 'Game 2: 16 blue, 12 green, 3 red; 13 blue, 2 red, 8 green; 15 green, 3 red, 16 blue', 'Game 3: 6 green, 15 red; 1 green, 4 red, 7 blue; 9 blue, 7 red, 8 green', 'Game 4: 8 red, 2 blue; 11 red, 5 blue, 1 green; 12 red, 1 green, 5 blue; 1 blue; 2 blue, 9 red', 'Game 5: 9 blue, 3 red, 12 green; 3 green, 4 red, 17 blue; 15 blue, 2 green, 5 red; 3 blue, 5 green, 6 red; 6 red, 4 blue, 7 green; 3 green, 10 blue', 'Game 6: 11 red, 2 blue, 6 green; 2 blue, 9 red, 4 green; 3 blue, 12 red, 8 green; 5 red, 11 green, 4 blue; 2 blue, 9 red, 13 green; 15 red, 3 blue, 7 green', 'Game 7: 2 red, 9 green, 12 blue; 14 blue, 1 green, 6 red; 7 blue, 9 green; 9 green, 8 red, 4 blue; 5 red, 3 green, 16 blue; 4 red, 8 green', 'Game 8: 11 red, 12 green, 1 blue; 4 red, 7 green; 11 red, 6 green; 17 green; 15 green, 1 red', 'Game 9: 1 red, 1 green, 12 blue; 3 green, 12 red, 6 blue; 14 red, 1 blue; 9 blue, 1 red, 3 green', 'Game 10: 1 red, 4 blue; 3 blue, 4 green; 3 green, 3 red, 8 blue; 2 blue, 3 red; 3 green, 4 red, 3 blue', 'Game 11: 8 blue, 1 red; 8 green, 1 red, 1 blue; 13 green, 9 red, 6 blue', 'Game 12: 2 red, 2 blue, 1 green; 3 red, 1 green; 1 blue, 3 green', 'Game 13: 12 green, 4 blue; 2 red, 2 blue, 8 green; 6 green, 3 red; 3 red, 5 green; 9 green, 7 blue, 1 red', 'Game 14: 1 red, 7 green; 5 green, 12 red, 10 blue; 9 red, 11 blue, 7 green; 7 blue, 3 red, 9 green', 'Game 15: 7 green, 1 blue; 1 red, 2 green, 1 blue; 7 green', 'Game 16: 1 green, 1 blue; 2 blue, 4 green, 2 red; 2 green, 2 blue', 'Game 17: 6 red, 11 green, 7 blue; 1 blue, 13 green, 4 red; 4 green, 6 blue, 7 red', 'Game 18: 2 red, 8 blue; 7 red, 11 blue; 1 green, 16 blue, 7 red; 18 blue, 1 green, 14 red', 'Game 19: 2 red, 2 blue; 1 green, 6 red; 1 green, 3 red, 2 blue', 'Game 20: 6 red, 2 blue, 5 green; 4 red, 1 blue, 9 green; 3 blue, 2 red, 9 green; 8 red, 12 green, 5 blue', 'Game 21: 6 red, 7 blue; 3 blue, 16 red, 2 green; 2 blue, 13 red; 3 blue, 11 red, 3 green; 1 green, 18 red, 6 blue; 12 red, 5 blue, 2 green', 'Game 22: 9 red, 6 blue, 14 green; 1 blue, 5 green, 13 red; 6 red; 18 red, 4 green; 2 blue, 10 green, 16 red; 1 red, 18 green, 1 blue', 'Game 23: 6 green, 4 red, 3 blue; 1 blue, 2 red, 9 green; 5 green, 1 red, 3 blue; 5 blue, 4 red, 4 green', 'Game 24: 1 red, 5 green, 2 blue; 4 red, 7 green, 9 blue; 9 blue, 7 green; 7 green, 13 blue; 4 blue, 1 green, 4 red', 'Game 25: 13 blue, 10 red, 11 green; 10 green, 1 blue, 3 red; 15 red, 5 green, 8 blue; 19 red, 10 green, 13 blue; 12 blue, 4 green, 16 red; 7 red, 5 green, 9 blue', 'Game 26: 20 red, 6 blue, 12 green; 15 blue, 17 red, 9 green; 19 red, 6 green, 3 blue; 8 green, 1 red, 15 blue; 10 green, 8 red, 5 blue; 4 green, 20 red, 18 blue', 'Game 27: 2 blue, 3 green, 7 red; 2 blue, 4 red; 5 blue, 5 green; 8 blue, 6 green, 2 red', 'Game 28: 1 green, 6 red; 3 red, 3 blue; 1 green, 4 red; 1 red, 2 blue; 2 red', 'Game 29: 8 blue, 1 green; 7 blue, 1 red; 6 red, 2 blue; 2 red, 3 green; 3 red, 6 green, 5 blue', 'Game 30: 11 blue, 17 green, 10 red; 9 blue, 12 green, 14 red; 16 green, 2 red, 8 blue; 18 green, 1 red, 1 blue; 5 blue, 7 red, 18 green; 9 green, 3 blue, 11 red', 'Game 31: 5 blue, 13 green; 2 green, 3 red, 4 blue; 3 red, 15 green, 2 blue; 5 blue, 19 green; 5 blue, 18 green; 3 green, 7 blue, 3 red', 'Game 32: 12 red, 2 green, 3 blue; 2 green, 16 red, 1 blue; 13 red, 4 green, 6 blue', 'Game 33: 18 green, 8 blue, 3 red; 15 green, 2 blue, 4 red; 14 blue, 3 red, 6 green; 20 green, 13 blue; 1 red, 19 green', 'Game 34: 1 green, 7 blue, 2 red; 8 green, 10 blue, 2 red; 3 blue, 1 green, 1 red; 6 green, 13 blue, 1 red; 1 green, 4 blue, 2 red; 1 red, 5 green, 7 blue', 'Game 35: 7 blue, 8 red; 2 blue, 3 red; 4 blue, 3 red; 7 red, 4 blue; 1 blue, 1 green, 3 red', 'Game 36: 1 red, 8 green; 1 red, 6 green; 3 green, 8 red; 1 blue, 2 red, 1 green', 'Game 37: 3 blue, 13 red; 2 blue, 7 red; 5 red, 1 green; 3 red, 3 blue; 1 blue, 12 red, 1 green; 14 red, 3 blue', 'Game 38: 7 blue, 18 red, 12 green; 11 red, 6 green, 1 blue; 9 green, 1 red; 9 green, 13 blue, 16 red', 'Game 39: 12 red, 3 green, 2 blue; 3 blue, 3 green, 10 red; 2 blue, 5 red; 2 blue, 1 green; 5 blue, 4 green, 7 red; 2 green, 1 red', 'Game 40: 1 red, 7 blue, 5 green; 1 red, 4 blue, 8 green; 3 red, 5 blue, 14 green; 10 green, 2 blue, 1 red; 11 blue, 7 green, 1 red; 14 green, 2 blue', 'Game 41: 8 green, 5 red, 3 blue; 5 red, 4 blue, 12 green; 10 green, 6 blue; 13 green, 7 blue; 1 red, 2 green, 15 blue', 'Game 42: 17 red, 1 blue, 5 green; 9 green, 16 red; 1 blue, 15 green, 2 red; 1 blue, 12 red, 12 green', 'Game 43: 12 green, 5 blue; 3 red, 8 blue, 10 green; 8 blue, 2 green, 1 red', 'Game 44: 1 green, 7 red, 2 blue; 1 blue, 10 red; 4 green, 3 blue, 19 red; 1 blue, 3 green, 1 red; 1 blue; 4 red, 2 green, 3 blue', 'Game 45: 16 red, 12 blue, 1 green; 13 blue, 16 red, 9 green; 7 green, 3 red, 8 blue', 'Game 46: 1 red, 17 green, 6 blue; 6 blue, 1 red, 3 green; 12 green, 1 blue; 4 blue, 2 green', 'Game 47: 2 green, 12 red, 15 blue; 9 blue, 2 green, 2 red; 3 green, 6 blue, 2 red; 11 blue, 3 green, 5 red; 6 green, 9 red, 17 blue', 'Game 48: 5 blue, 6 red; 7 green, 14 red, 4 blue; 2 green, 5 blue, 2 red; 11 blue, 5 red, 5 green', 'Game 49: 7 green, 7 blue, 4 red; 11 green, 12 blue, 2 red; 12 blue, 4 red, 9 green; 3 red, 8 blue, 17 green; 16 green, 3 red, 14 blue', 'Game 50: 5 green, 4 red, 10 blue; 7 green, 14 red, 5 blue; 12 red, 18 blue, 14 green', 'Game 51: 12 green, 3 blue; 10 green, 4 blue, 2 red; 3 green, 5 blue', 'Game 52: 12 green, 6 red, 7 blue; 20 green, 6 red, 18 blue; 1 green, 5 blue, 11 red; 2 green, 15 blue, 6 red', 'Game 53: 6 red, 2 green, 5 blue; 13 green, 1 blue, 14 red; 7 green, 1 blue; 3 green, 4 blue, 6 red; 10 red, 6 green, 4 blue', 'Game 54: 4 blue, 1 red; 1 red, 1 blue, 9 green; 3 red, 2 blue, 4 green; 3 green, 2 red, 5 blue; 9 blue, 2 red, 7 green', 'Game 55: 7 blue; 6 blue, 1 red; 4 red, 7 blue; 3 red, 3 blue, 1 green', 'Game 56: 2 green, 7 blue; 3 red, 10 blue; 1 green, 2 red; 3 red, 8 blue, 4 green; 1 green, 11 blue, 3 red; 2 green, 8 blue', 'Game 57: 3 red, 1 green; 1 green, 1 red, 1 blue; 1 red, 4 green, 15 blue; 9 blue, 2 red, 1 green', 'Game 58: 12 blue, 13 red, 5 green; 2 blue, 6 green; 12 red, 15 green, 7 blue; 5 red, 4 green, 14 blue; 15 red, 2 green, 9 blue', 'Game 59: 5 green, 5 blue; 4 red, 6 blue, 2 green; 5 blue, 3 green, 6 red; 3 red, 6 green, 4 blue; 3 blue, 7 green, 10 red', 'Game 60: 1 red, 1 blue, 3 green; 1 red; 3 green, 6 blue; 6 blue', 'Game 61: 7 green, 1 red, 1 blue; 4 red, 3 green, 1 blue; 7 blue, 7 green; 11 blue, 2 green, 5 red; 5 red, 4 green, 5 blue', 'Game 62: 17 green, 2 red, 3 blue; 1 red, 3 blue, 2 green; 1 green, 3 blue, 2 red; 1 red, 17 green; 2 red, 15 green, 4 blue; 5 green', 'Game 63: 2 green, 4 red, 3 blue; 9 blue, 10 red; 1 green, 13 blue, 2 red; 2 green, 1 blue, 5 red', 'Game 64: 6 red, 8 blue; 3 red, 6 blue, 5 green; 13 red, 11 blue, 8 green; 11 red, 3 blue, 1 green', 'Game 65: 4 green, 1 blue, 2 red; 3 blue, 3 green, 11 red; 6 green, 3 blue, 3 red; 5 red, 4 blue; 8 red, 5 blue, 2 green', 'Game 66: 10 green, 13 red; 1 blue, 2 red, 4 green; 7 red, 7 green; 19 green, 9 red, 1 blue; 16 green, 16 red, 2 blue; 10 red, 11 green', 'Game 67: 3 blue, 4 green, 2 red; 6 blue, 19 red; 4 blue, 2 red, 5 green; 4 green, 5 blue, 1 red', 'Game 68: 13 blue, 15 red, 7 green; 5 blue, 20 red; 6 green, 12 blue, 8 red; 5 blue, 8 green', 'Game 69: 13 red, 13 green; 13 green, 3 red, 1 blue; 8 green; 9 green, 9 red', 'Game 70: 8 blue, 11 red, 2 green; 12 red, 2 blue; 13 red, 6 blue, 3 green; 7 blue, 3 green, 5 red; 15 red, 1 blue, 3 green', 'Game 71: 7 red, 9 green; 4 blue, 9 green, 7 red; 4 blue, 2 green; 6 blue, 2 red, 9 green', 'Game 72: 14 blue, 1 green; 4 red, 1 green, 9 blue; 6 blue, 8 red, 2 green', 'Game 73: 17 green; 10 blue, 2 red, 9 green; 1 green, 10 blue, 2 red; 8 blue, 1 red; 5 blue, 16 green', 'Game 74: 12 green, 6 red, 5 blue; 2 red, 4 blue, 10 green; 3 green, 4 blue, 2 red; 8 green, 2 red, 5 blue; 5 red, 2 blue, 2 green; 6 green, 1 red, 1 blue', 'Game 75: 4 blue, 19 green; 15 blue, 7 green; 18 blue, 5 green, 7 red; 16 green, 15 blue; 7 red, 4 green, 13 blue; 9 green, 13 blue', 'Game 76: 1 red, 2 green, 7 blue; 13 blue, 7 green, 1 red; 13 blue, 5 red', 'Game 77: 3 red, 10 blue, 6 green; 1 green, 2 red, 10 blue; 7 green, 1 red', 'Game 78: 11 green, 2 blue; 6 blue, 8 red, 5 green; 10 red, 6 green, 4 blue; 6 blue, 3 green, 10 red; 5 green, 6 red', 'Game 79: 4 red, 6 blue, 1 green; 1 red; 2 green, 3 blue, 4 red; 4 red, 1 green, 2 blue; 2 green, 1 red', 'Game 80: 2 red, 1 green; 1 red, 1 green; 7 red, 1 green; 1 blue, 7 red, 3 green', 'Game 81: 1 blue, 15 red, 4 green; 2 green, 12 red; 4 green, 13 red; 1 blue, 3 green, 13 red; 12 red, 2 green, 1 blue; 3 green, 8 red, 1 blue', 'Game 82: 18 red, 4 green, 1 blue; 14 red, 1 green, 2 blue; 10 red, 2 blue, 7 green; 13 red; 3 red, 7 green, 1 blue; 5 red, 4 green', 'Game 83: 4 red, 10 green, 5 blue; 2 red, 12 blue, 13 green; 19 blue, 9 green, 1 red; 2 red, 14 blue, 3 green; 13 green, 8 blue, 5 red', 'Game 84: 12 blue, 7 red, 9 green; 1 blue, 1 green, 14 red; 1 green, 8 red, 11 blue; 11 blue, 12 red, 3 green; 11 blue, 8 green, 13 red; 7 green, 7 red, 10 blue', 'Game 85: 10 red, 2 blue; 11 green, 9 red, 4 blue; 3 red, 5 blue, 13 green; 5 red, 5 green; 5 red, 2 blue, 4 green; 11 green, 4 blue, 19 red', 'Game 86: 1 blue, 6 green, 2 red; 1 red, 1 blue, 8 green; 3 red, 1 blue, 4 green; 1 green, 4 red; 9 green, 2 red; 6 green, 7 red, 1 blue', 'Game 87: 8 green, 8 blue, 4 red; 5 red, 2 blue, 10 green; 3 red, 13 green; 1 red, 3 blue, 4 green', 'Game 88: 3 blue, 9 green, 3 red; 2 blue, 15 green; 2 red, 9 green', 'Game 89: 9 red, 6 green, 15 blue; 10 blue, 7 red, 2 green; 7 green, 16 blue, 4 red', 'Game 90: 1 red, 1 blue, 7 green; 7 green, 1 blue, 8 red; 3 red, 1 blue, 1 green', 'Game 91: 1 green, 2 red, 6 blue; 4 green, 4 red, 3 blue; 4 red, 11 green, 4 blue; 3 blue, 5 red; 8 green, 2 red, 8 blue', 'Game 92: 2 red, 3 blue; 3 blue, 2 green, 2 red; 9 red, 3 green', 'Game 93: 2 blue, 5 green; 2 green, 5 blue, 3 red; 2 green, 5 blue, 1 red; 7 blue, 4 red, 9 green', 'Game 94: 1 red, 9 blue, 14 green; 6 green; 2 blue, 11 green; 4 blue, 16 green, 1 red', 'Game 95: 10 green, 2 blue, 7 red; 4 blue, 4 red, 6 green; 3 red, 2 blue, 3 green', 'Game 96: 12 red; 3 green, 10 red; 6 blue, 14 red, 2 green; 7 green, 15 red; 3 green, 3 red, 1 blue; 5 blue, 1 red', 'Game 97: 3 red, 1 green, 1 blue; 1 green, 3 red; 4 red, 1 green', 'Game 98: 4 red, 5 green, 6 blue; 2 red, 9 green, 6 blue; 2 blue, 11 red, 14 green; 6 green, 4 blue; 11 blue, 11 red, 8 green', 'Game 99: 2 green, 20 blue; 12 blue; 3 red, 12 blue; 7 blue; 3 green, 10 blue, 2 red; 3 red, 2 green', 'Game 100: 2 blue, 8 green, 12 red; 2 green, 13 red; 2 red, 4 green; 2 green, 7 red; 10 green, 5 red, 1 blue']\n"
     ]
    }
   ],
   "source": [
    "# Read the data\n",
    "\n",
    "# Open data file in read mode\n",
    "data = open(\"data.txt\", \"r\")\n",
    "lines = data.read().splitlines()\n",
    "print(lines)"
   ]
  },
  {
   "cell_type": "markdown",
   "metadata": {},
   "source": []
  },
  {
   "cell_type": "code",
   "execution_count": 29,
   "metadata": {},
   "outputs": [
    {
     "name": "stdout",
     "output_type": "stream",
     "text": [
      "[{'output': {'blue': [7, 4, 6, 1, 14, 8], 'red': [18, 15, 17, 11, 18], 'green': [8, 1, 2, 5, 1]}, 'max_output': {'blue': 14, 'red': 18, 'green': 8}}, {'output': {'blue': [16, 13, 16], 'red': [3, 2, 3], 'green': [12, 8, 15]}, 'max_output': {'blue': 16, 'red': 3, 'green': 15}}, {'output': {'blue': [7, 9], 'red': [15, 4, 7], 'green': [6, 1, 8]}, 'max_output': {'blue': 9, 'red': 15, 'green': 8}}, {'output': {'blue': [2, 5, 5, 1, 2], 'red': [8, 11, 12, 9], 'green': [1, 1]}, 'max_output': {'blue': 5, 'red': 12, 'green': 1}}, {'output': {'blue': [9, 17, 15, 3, 4, 10], 'red': [3, 4, 5, 6, 6], 'green': [12, 3, 2, 5, 7, 3]}, 'max_output': {'blue': 17, 'red': 6, 'green': 12}}, {'output': {'blue': [2, 2, 3, 4, 2, 3], 'red': [11, 9, 12, 5, 9, 15], 'green': [6, 4, 8, 11, 13, 7]}, 'max_output': {'blue': 4, 'red': 15, 'green': 13}}, {'output': {'blue': [12, 14, 7, 4, 16], 'red': [2, 6, 8, 5, 4], 'green': [9, 1, 9, 9, 3, 8]}, 'max_output': {'blue': 16, 'red': 8, 'green': 9}}, {'output': {'blue': [1], 'red': [11, 4, 11, 1], 'green': [12, 7, 6, 17, 15]}, 'max_output': {'blue': 1, 'red': 11, 'green': 17}}, {'output': {'blue': [12, 6, 1, 9], 'red': [1, 12, 14, 1], 'green': [1, 3, 3]}, 'max_output': {'blue': 12, 'red': 14, 'green': 3}}, {'output': {'blue': [4, 3, 8, 2, 3], 'red': [1, 3, 3, 4], 'green': [4, 3, 3]}, 'max_output': {'blue': 8, 'red': 4, 'green': 4}}, {'output': {'blue': [8, 1, 6], 'red': [1, 1, 9], 'green': [8, 13]}, 'max_output': {'blue': 8, 'red': 9, 'green': 13}}, {'output': {'blue': [2, 1], 'red': [2, 3], 'green': [1, 1, 3]}, 'max_output': {'blue': 2, 'red': 3, 'green': 3}}, {'output': {'blue': [4, 2, 7], 'red': [2, 3, 3, 1], 'green': [12, 8, 6, 5, 9]}, 'max_output': {'blue': 7, 'red': 3, 'green': 12}}, {'output': {'blue': [10, 11, 7], 'red': [1, 12, 9, 3], 'green': [7, 5, 7, 9]}, 'max_output': {'blue': 11, 'red': 12, 'green': 9}}, {'output': {'blue': [1, 1], 'red': [1], 'green': [7, 2, 7]}, 'max_output': {'blue': 1, 'red': 1, 'green': 7}}, {'output': {'blue': [1, 2, 2], 'red': [2], 'green': [1, 4, 2]}, 'max_output': {'blue': 2, 'red': 2, 'green': 4}}, {'output': {'blue': [7, 1, 6], 'red': [6, 4, 7], 'green': [11, 13, 4]}, 'max_output': {'blue': 7, 'red': 7, 'green': 13}}, {'output': {'blue': [8, 11, 16, 18], 'red': [2, 7, 7, 14], 'green': [1, 1]}, 'max_output': {'blue': 18, 'red': 14, 'green': 1}}, {'output': {'blue': [2, 2], 'red': [2, 6, 3], 'green': [1, 1]}, 'max_output': {'blue': 2, 'red': 6, 'green': 1}}, {'output': {'blue': [2, 1, 3, 5], 'red': [6, 4, 2, 8], 'green': [5, 9, 9, 12]}, 'max_output': {'blue': 5, 'red': 8, 'green': 12}}, {'output': {'blue': [7, 3, 2, 3, 6, 5], 'red': [6, 16, 13, 11, 18, 12], 'green': [2, 3, 1, 2]}, 'max_output': {'blue': 7, 'red': 18, 'green': 3}}, {'output': {'blue': [6, 1, 2, 1], 'red': [9, 13, 6, 18, 16, 1], 'green': [14, 5, 4, 10, 18]}, 'max_output': {'blue': 6, 'red': 18, 'green': 18}}, {'output': {'blue': [3, 1, 3, 5], 'red': [4, 2, 1, 4], 'green': [6, 9, 5, 4]}, 'max_output': {'blue': 5, 'red': 4, 'green': 9}}, {'output': {'blue': [2, 9, 9, 13, 4], 'red': [1, 4, 4], 'green': [5, 7, 7, 7, 1]}, 'max_output': {'blue': 13, 'red': 4, 'green': 7}}, {'output': {'blue': [13, 1, 8, 13, 12, 9], 'red': [10, 3, 15, 19, 16, 7], 'green': [11, 10, 5, 10, 4, 5]}, 'max_output': {'blue': 13, 'red': 19, 'green': 11}}, {'output': {'blue': [6, 15, 3, 15, 5, 18], 'red': [20, 17, 19, 1, 8, 20], 'green': [12, 9, 6, 8, 10, 4]}, 'max_output': {'blue': 18, 'red': 20, 'green': 12}}, {'output': {'blue': [2, 2, 5, 8], 'red': [7, 4, 2], 'green': [3, 5, 6]}, 'max_output': {'blue': 8, 'red': 7, 'green': 6}}, {'output': {'blue': [3, 2], 'red': [6, 3, 4, 1, 2], 'green': [1, 1]}, 'max_output': {'blue': 3, 'red': 6, 'green': 1}}, {'output': {'blue': [8, 7, 2, 5], 'red': [1, 6, 2, 3], 'green': [1, 3, 6]}, 'max_output': {'blue': 8, 'red': 6, 'green': 6}}, {'output': {'blue': [11, 9, 8, 1, 5, 3], 'red': [10, 14, 2, 1, 7, 11], 'green': [17, 12, 16, 18, 18, 9]}, 'max_output': {'blue': 11, 'red': 14, 'green': 18}}, {'output': {'blue': [5, 4, 2, 5, 5, 7], 'red': [3, 3, 3], 'green': [13, 2, 15, 19, 18, 3]}, 'max_output': {'blue': 7, 'red': 3, 'green': 19}}, {'output': {'blue': [3, 1, 6], 'red': [12, 16, 13], 'green': [2, 2, 4]}, 'max_output': {'blue': 6, 'red': 16, 'green': 4}}, {'output': {'blue': [8, 2, 14, 13], 'red': [3, 4, 3, 1], 'green': [18, 15, 6, 20, 19]}, 'max_output': {'blue': 14, 'red': 4, 'green': 20}}, {'output': {'blue': [7, 10, 3, 13, 4, 7], 'red': [2, 2, 1, 1, 2, 1], 'green': [1, 8, 1, 6, 1, 5]}, 'max_output': {'blue': 13, 'red': 2, 'green': 8}}, {'output': {'blue': [7, 2, 4, 4, 1], 'red': [8, 3, 3, 7, 3], 'green': [1]}, 'max_output': {'blue': 7, 'red': 8, 'green': 1}}, {'output': {'blue': [1], 'red': [1, 1, 8, 2], 'green': [8, 6, 3, 1]}, 'max_output': {'blue': 1, 'red': 8, 'green': 8}}, {'output': {'blue': [3, 2, 3, 1, 3], 'red': [13, 7, 5, 3, 12, 14], 'green': [1, 1]}, 'max_output': {'blue': 3, 'red': 14, 'green': 1}}, {'output': {'blue': [7, 1, 13], 'red': [18, 11, 1, 16], 'green': [12, 6, 9, 9]}, 'max_output': {'blue': 13, 'red': 18, 'green': 12}}, {'output': {'blue': [2, 3, 2, 2, 5], 'red': [12, 10, 5, 7, 1], 'green': [3, 3, 1, 4, 2]}, 'max_output': {'blue': 5, 'red': 12, 'green': 4}}, {'output': {'blue': [7, 4, 5, 2, 11, 2], 'red': [1, 1, 3, 1, 1], 'green': [5, 8, 14, 10, 7, 14]}, 'max_output': {'blue': 11, 'red': 3, 'green': 14}}, {'output': {'blue': [3, 4, 6, 7, 15], 'red': [5, 5, 1], 'green': [8, 12, 10, 13, 2]}, 'max_output': {'blue': 15, 'red': 5, 'green': 13}}, {'output': {'blue': [1, 1, 1], 'red': [17, 16, 2, 12], 'green': [5, 9, 15, 12]}, 'max_output': {'blue': 1, 'red': 17, 'green': 15}}, {'output': {'blue': [5, 8, 8], 'red': [3, 1], 'green': [12, 10, 2]}, 'max_output': {'blue': 8, 'red': 3, 'green': 12}}, {'output': {'blue': [2, 1, 3, 1, 1, 3], 'red': [7, 10, 19, 1, 4], 'green': [1, 4, 3, 2]}, 'max_output': {'blue': 3, 'red': 19, 'green': 4}}, {'output': {'blue': [12, 13, 8], 'red': [16, 16, 3], 'green': [1, 9, 7]}, 'max_output': {'blue': 13, 'red': 16, 'green': 9}}, {'output': {'blue': [6, 6, 1, 4], 'red': [1, 1], 'green': [17, 3, 12, 2]}, 'max_output': {'blue': 6, 'red': 1, 'green': 17}}, {'output': {'blue': [15, 9, 6, 11, 17], 'red': [12, 2, 2, 5, 9], 'green': [2, 2, 3, 3, 6]}, 'max_output': {'blue': 17, 'red': 12, 'green': 6}}, {'output': {'blue': [5, 4, 5, 11], 'red': [6, 14, 2, 5], 'green': [7, 2, 5]}, 'max_output': {'blue': 11, 'red': 14, 'green': 7}}, {'output': {'blue': [7, 12, 12, 8, 14], 'red': [4, 2, 4, 3, 3], 'green': [7, 11, 9, 17, 16]}, 'max_output': {'blue': 14, 'red': 4, 'green': 17}}, {'output': {'blue': [10, 5, 18], 'red': [4, 14, 12], 'green': [5, 7, 14]}, 'max_output': {'blue': 18, 'red': 14, 'green': 14}}, {'output': {'blue': [3, 4, 5], 'red': [2], 'green': [12, 10, 3]}, 'max_output': {'blue': 5, 'red': 2, 'green': 12}}, {'output': {'blue': [7, 18, 5, 15], 'red': [6, 6, 11, 6], 'green': [12, 20, 1, 2]}, 'max_output': {'blue': 18, 'red': 11, 'green': 20}}, {'output': {'blue': [5, 1, 1, 4, 4], 'red': [6, 14, 6, 10], 'green': [2, 13, 7, 3, 6]}, 'max_output': {'blue': 5, 'red': 14, 'green': 13}}, {'output': {'blue': [4, 1, 2, 5, 9], 'red': [1, 1, 3, 2, 2], 'green': [9, 4, 3, 7]}, 'max_output': {'blue': 9, 'red': 3, 'green': 9}}, {'output': {'blue': [7, 6, 7, 3], 'red': [1, 4, 3], 'green': [1]}, 'max_output': {'blue': 7, 'red': 4, 'green': 1}}, {'output': {'blue': [7, 10, 8, 11, 8], 'red': [3, 2, 3, 3], 'green': [2, 1, 4, 1, 2]}, 'max_output': {'blue': 11, 'red': 3, 'green': 4}}, {'output': {'blue': [1, 15, 9], 'red': [3, 1, 1, 2], 'green': [1, 1, 4, 1]}, 'max_output': {'blue': 15, 'red': 3, 'green': 4}}, {'output': {'blue': [12, 2, 7, 14, 9], 'red': [13, 12, 5, 15], 'green': [5, 6, 15, 4, 2]}, 'max_output': {'blue': 14, 'red': 15, 'green': 15}}, {'output': {'blue': [5, 6, 5, 4, 3], 'red': [4, 6, 3, 10], 'green': [5, 2, 3, 6, 7]}, 'max_output': {'blue': 6, 'red': 10, 'green': 7}}, {'output': {'blue': [1, 6, 6], 'red': [1, 1], 'green': [3, 3]}, 'max_output': {'blue': 6, 'red': 1, 'green': 3}}, {'output': {'blue': [1, 1, 7, 11, 5], 'red': [1, 4, 5, 5], 'green': [7, 3, 7, 2, 4]}, 'max_output': {'blue': 11, 'red': 5, 'green': 7}}, {'output': {'blue': [3, 3, 3, 4], 'red': [2, 1, 2, 1, 2], 'green': [17, 2, 1, 17, 15, 5]}, 'max_output': {'blue': 4, 'red': 2, 'green': 17}}, {'output': {'blue': [3, 9, 13, 1], 'red': [4, 10, 2, 5], 'green': [2, 1, 2]}, 'max_output': {'blue': 13, 'red': 10, 'green': 2}}, {'output': {'blue': [8, 6, 11, 3], 'red': [6, 3, 13, 11], 'green': [5, 8, 1]}, 'max_output': {'blue': 11, 'red': 13, 'green': 8}}, {'output': {'blue': [1, 3, 3, 4, 5], 'red': [2, 11, 3, 5, 8], 'green': [4, 3, 6, 2]}, 'max_output': {'blue': 5, 'red': 11, 'green': 6}}, {'output': {'blue': [1, 1, 2], 'red': [13, 2, 7, 9, 16, 10], 'green': [10, 4, 7, 19, 16, 11]}, 'max_output': {'blue': 2, 'red': 16, 'green': 19}}, {'output': {'blue': [3, 6, 4, 5], 'red': [2, 19, 2, 1], 'green': [4, 5, 4]}, 'max_output': {'blue': 6, 'red': 19, 'green': 5}}, {'output': {'blue': [13, 5, 12, 5], 'red': [15, 20, 8], 'green': [7, 6, 8]}, 'max_output': {'blue': 13, 'red': 20, 'green': 8}}, {'output': {'blue': [1], 'red': [13, 3, 9], 'green': [13, 13, 8, 9]}, 'max_output': {'blue': 1, 'red': 13, 'green': 13}}, {'output': {'blue': [8, 2, 6, 7, 1], 'red': [11, 12, 13, 5, 15], 'green': [2, 3, 3, 3]}, 'max_output': {'blue': 8, 'red': 15, 'green': 3}}, {'output': {'blue': [4, 4, 6], 'red': [7, 7, 2], 'green': [9, 9, 2, 9]}, 'max_output': {'blue': 6, 'red': 7, 'green': 9}}, {'output': {'blue': [14, 9, 6], 'red': [4, 8], 'green': [1, 1, 2]}, 'max_output': {'blue': 14, 'red': 8, 'green': 2}}, {'output': {'blue': [10, 10, 8, 5], 'red': [2, 2, 1], 'green': [17, 9, 1, 16]}, 'max_output': {'blue': 10, 'red': 2, 'green': 17}}, {'output': {'blue': [5, 4, 4, 5, 2, 1], 'red': [6, 2, 2, 2, 5, 1], 'green': [12, 10, 3, 8, 2, 6]}, 'max_output': {'blue': 5, 'red': 6, 'green': 12}}, {'output': {'blue': [4, 15, 18, 15, 13, 13], 'red': [7, 7], 'green': [19, 7, 5, 16, 4, 9]}, 'max_output': {'blue': 18, 'red': 7, 'green': 19}}, {'output': {'blue': [7, 13, 13], 'red': [1, 1, 5], 'green': [2, 7]}, 'max_output': {'blue': 13, 'red': 5, 'green': 7}}, {'output': {'blue': [10, 10], 'red': [3, 2, 1], 'green': [6, 1, 7]}, 'max_output': {'blue': 10, 'red': 3, 'green': 7}}, {'output': {'blue': [2, 6, 4, 6], 'red': [8, 10, 10, 6], 'green': [11, 5, 6, 3, 5]}, 'max_output': {'blue': 6, 'red': 10, 'green': 11}}, {'output': {'blue': [6, 3, 2], 'red': [4, 1, 4, 4, 1], 'green': [1, 2, 1, 2]}, 'max_output': {'blue': 6, 'red': 4, 'green': 2}}, {'output': {'blue': [1], 'red': [2, 1, 7, 7], 'green': [1, 1, 1, 3]}, 'max_output': {'blue': 1, 'red': 7, 'green': 3}}, {'output': {'blue': [1, 1, 1, 1], 'red': [15, 12, 13, 13, 12, 8], 'green': [4, 2, 4, 3, 2, 3]}, 'max_output': {'blue': 1, 'red': 15, 'green': 4}}, {'output': {'blue': [1, 2, 2, 1], 'red': [18, 14, 10, 13, 3, 5], 'green': [4, 1, 7, 7, 4]}, 'max_output': {'blue': 2, 'red': 18, 'green': 7}}, {'output': {'blue': [5, 12, 19, 14, 8], 'red': [4, 2, 1, 2, 5], 'green': [10, 13, 9, 3, 13]}, 'max_output': {'blue': 19, 'red': 5, 'green': 13}}, {'output': {'blue': [12, 1, 11, 11, 11, 10], 'red': [7, 14, 8, 12, 13, 7], 'green': [9, 1, 1, 3, 8, 7]}, 'max_output': {'blue': 12, 'red': 14, 'green': 9}}, {'output': {'blue': [2, 4, 5, 2, 4], 'red': [10, 9, 3, 5, 5, 19], 'green': [11, 13, 5, 4, 11]}, 'max_output': {'blue': 5, 'red': 19, 'green': 13}}, {'output': {'blue': [1, 1, 1, 1], 'red': [2, 1, 3, 4, 2, 7], 'green': [6, 8, 4, 1, 9, 6]}, 'max_output': {'blue': 1, 'red': 7, 'green': 9}}, {'output': {'blue': [8, 2, 3], 'red': [4, 5, 3, 1], 'green': [8, 10, 13, 4]}, 'max_output': {'blue': 8, 'red': 5, 'green': 13}}, {'output': {'blue': [3, 2], 'red': [3, 2], 'green': [9, 15, 9]}, 'max_output': {'blue': 3, 'red': 3, 'green': 15}}, {'output': {'blue': [15, 10, 16], 'red': [9, 7, 4], 'green': [6, 2, 7]}, 'max_output': {'blue': 16, 'red': 9, 'green': 7}}, {'output': {'blue': [1, 1, 1], 'red': [1, 8, 3], 'green': [7, 7, 1]}, 'max_output': {'blue': 1, 'red': 8, 'green': 7}}, {'output': {'blue': [6, 3, 4, 3, 8], 'red': [2, 4, 4, 5, 2], 'green': [1, 4, 11, 8]}, 'max_output': {'blue': 8, 'red': 5, 'green': 11}}, {'output': {'blue': [3, 3], 'red': [2, 2, 9], 'green': [2, 3]}, 'max_output': {'blue': 3, 'red': 9, 'green': 3}}, {'output': {'blue': [2, 5, 5, 7], 'red': [3, 1, 4], 'green': [5, 2, 2, 9]}, 'max_output': {'blue': 7, 'red': 4, 'green': 9}}, {'output': {'blue': [9, 2, 4], 'red': [1, 1], 'green': [14, 6, 11, 16]}, 'max_output': {'blue': 9, 'red': 1, 'green': 16}}, {'output': {'blue': [2, 4, 2], 'red': [7, 4, 3], 'green': [10, 6, 3]}, 'max_output': {'blue': 4, 'red': 7, 'green': 10}}, {'output': {'blue': [6, 1, 5], 'red': [12, 10, 14, 15, 3, 1], 'green': [3, 2, 7, 3]}, 'max_output': {'blue': 6, 'red': 15, 'green': 7}}, {'output': {'blue': [1], 'red': [3, 3, 4], 'green': [1, 1, 1]}, 'max_output': {'blue': 1, 'red': 4, 'green': 1}}, {'output': {'blue': [6, 6, 2, 4, 11], 'red': [4, 2, 11, 11], 'green': [5, 9, 14, 6, 8]}, 'max_output': {'blue': 11, 'red': 11, 'green': 14}}, {'output': {'blue': [20, 12, 12, 7, 10], 'red': [3, 2, 3], 'green': [2, 3, 2]}, 'max_output': {'blue': 20, 'red': 3, 'green': 3}}, {'output': {'blue': [2, 1], 'red': [12, 13, 2, 7, 5], 'green': [8, 2, 4, 2, 10]}, 'max_output': {'blue': 2, 'red': 13, 'green': 10}}]\n"
     ]
    }
   ],
   "source": [
    "# Convert the data into a useful format\n",
    "\n",
    "def get_output_for_line(line: str):\n",
    "  max_output = {\n",
    "    \"blue\": 0,\n",
    "    \"red\": 0,\n",
    "    \"green\": 0,\n",
    "  }\n",
    "  output = {\n",
    "    \"blue\": [],\n",
    "    \"red\": [],\n",
    "    \"green\": []\n",
    "  }\n",
    "  subsets = line.split(\":\")[1].split(\";\")\n",
    "  for subset in subsets:\n",
    "    cube_colour_pairs = subset.split(\",\")\n",
    "    for cube_colour_pair in cube_colour_pairs:\n",
    "      cube_num, cube_colour = cube_colour_pair.strip().split(\" \")\n",
    "      # print (cube_num, cube_colour)\n",
    "      output[cube_colour].append(int(cube_num))\n",
    "  max_output = {\n",
    "    \"blue\": max(output[\"blue\"]) if len(output[\"blue\"]) > 0 else 0,\n",
    "    \"red\": max(output[\"red\"]) if len(output[\"red\"]) > 0 else 0,\n",
    "    \"green\": max(output[\"green\"]) if len(output[\"green\"]) > 0 else 0,\n",
    "  }\n",
    "  return {\"output\": output, \"max_output\": max_output}\n",
    "\n",
    "games = list(map(get_output_for_line, lines))\n",
    "print(games)"
   ]
  },
  {
   "cell_type": "code",
   "execution_count": 30,
   "metadata": {},
   "outputs": [],
   "source": [
    "# Check whether a game is possible\n",
    "def is_game_possible(game_output):\n",
    "  is_possible = False\n",
    "  max_output = game_output[\"max_output\"]\n",
    "  if max_output[\"red\"] <= max_red_cubes and max_output[\"blue\"] <= max_blue_cubes and max_output[\"green\"] <= max_green_cubes:\n",
    "    is_possible = True\n",
    "  return is_possible"
   ]
  },
  {
   "cell_type": "code",
   "execution_count": 31,
   "metadata": {},
   "outputs": [],
   "source": [
    "# Get the power of each game\n",
    "def calculate_game_power(game_output):\n",
    "  max_output = game_output[\"max_output\"]\n",
    "  return max_output[\"red\"] * max_output[\"blue\"] * max_output[\"green\"]"
   ]
  },
  {
   "cell_type": "code",
   "execution_count": 32,
   "metadata": {},
   "outputs": [
    {
     "name": "stdout",
     "output_type": "stream",
     "text": [
      "sum of possible game ids: 2331\n",
      "sum of game powers: 71585\n"
     ]
    }
   ],
   "source": [
    "# Return the sum of the ids (index + 1) of possible games\n",
    "sum_possible_game_ids = 0\n",
    "sum_game_powers = 0\n",
    "for i, game in enumerate(games):\n",
    "  if is_game_possible(game):\n",
    "    sum_possible_game_ids += i + 1\n",
    "  sum_game_powers += calculate_game_power(game)\n",
    "\n",
    "print (f\"sum of possible game ids: {sum_possible_game_ids}\")\n",
    "print(f\"sum of game powers: {sum_game_powers}\")"
   ]
  },
  {
   "cell_type": "markdown",
   "metadata": {},
   "source": []
  }
 ],
 "metadata": {
  "kernelspec": {
   "display_name": "Python 3",
   "language": "python",
   "name": "python3"
  },
  "language_info": {
   "codemirror_mode": {
    "name": "ipython",
    "version": 3
   },
   "file_extension": ".py",
   "mimetype": "text/x-python",
   "name": "python",
   "nbconvert_exporter": "python",
   "pygments_lexer": "ipython3",
   "version": "3.9.6"
  }
 },
 "nbformat": 4,
 "nbformat_minor": 2
}
